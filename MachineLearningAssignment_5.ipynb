{
 "cells": [
  {
   "cell_type": "markdown",
   "metadata": {},
   "source": [
    "## 1. What are the key tasks that machine learning entails? What does data pre-processing imply?"
   ]
  },
  {
   "cell_type": "markdown",
   "metadata": {},
   "source": [
    "Ans: The key task in machine learning are classification, regression, clustering, association, reinforcement learning. Before creating a model it is important to prepare the data in such a way that it can be fed into the machine learning algorithm. Pre-processing steps includes dealing with missing values, manipulating data, encoding categorical features, scaling features etc."
   ]
  },
  {
   "cell_type": "markdown",
   "metadata": {},
   "source": [
    "## 2. Describe quantitative and qualitative data in depth. Make a distinction between the two."
   ]
  },
  {
   "cell_type": "markdown",
   "metadata": {},
   "source": [
    "Ans: 1. Qualitative Data- Provides information regarding quality of an objective, information that cannot be measured. Eg 'Good', 'Bad' Qualitative data have 2 groups: Nominal and Ordinal. Nominal data has no numeric value and it cant be quantified. Eg: Male or Female. Ordinal data can be ordered in a sequence. Eg Grades A,B,C,D\n",
    "\n",
    "1.Quantitative data- Provides information regarding quantity so it can be measured. It is numeric data. Quantitative data have 2 groups: Interval data and Ratio data. Interval data- It is numeric data which have known order, and have exact difference between the values. It does not have true 0 value. Eg: Temperature. Ratio data- in this true 0 alue is available."
   ]
  },
  {
   "cell_type": "markdown",
   "metadata": {},
   "source": [
    "## 3. Create a basic data collection that includes some sample records. Have at least one attribute from each of the machine learning data types."
   ]
  },
  {
   "cell_type": "markdown",
   "metadata": {},
   "source": [
    "Ans:\n",
    "\n",
    "Name= Annu, Gender= Female, Score=90, Grades=A, Height=5, IQ rating=145-159"
   ]
  },
  {
   "cell_type": "markdown",
   "metadata": {},
   "source": [
    "## 4. What are the various causes of machine learning data issues? What are the ramifications?"
   ]
  },
  {
   "cell_type": "markdown",
   "metadata": {},
   "source": [
    "Ans: The quality of data is the most important aspect in a good model building. Two main issues related to data quality is missing values and outliers. It is possible that the data collected is from incorrect sample set.For example we collected sales data from festival season when people buy extremly more to predict future sale, the prediction wont be correct."
   ]
  },
  {
   "cell_type": "markdown",
   "metadata": {},
   "source": [
    "## 5. Demonstrate various approaches to categorical data exploration with appropriate examples."
   ]
  },
  {
   "cell_type": "markdown",
   "metadata": {},
   "source": [
    "Ans: We might want to see how many unique category to we have, next we might want to see how many times does each category appears by seeing its count. Two ways cross tab can be used to see relationship between two categorical features."
   ]
  },
  {
   "cell_type": "markdown",
   "metadata": {},
   "source": [
    "## 6. How would the learning activity be affected if certain variables have missing values? Having said that, what can be done about it?"
   ]
  },
  {
   "cell_type": "markdown",
   "metadata": {},
   "source": [
    "Ans: One or multiple data elements can be missing from a record. Many machine learning algorithms does not support missing values. Missing value reduces the statistical power. If there is less number of missing value in a feature then it is best to drop it. We can impute missing values by using imputer and specifying mean, meadian or mode strategy. In case of categorical data we can place the most occuring value in place of the mssing record."
   ]
  },
  {
   "cell_type": "markdown",
   "metadata": {},
   "source": [
    "## 7. Describe the various methods for dealing with missing data values in depth."
   ]
  },
  {
   "cell_type": "markdown",
   "metadata": {},
   "source": [
    "Ans: The first step in dealing with missing value is to identify what value represent missing value, is it 0, is it '?' or is it nan. Once we figured out we can replace it by mean. median or mode of that particular feature. In case of categorical we can replace it with most occuring value in that feature column. We can drop the entire row if lots of feature of that row is having missing value, or in case of column with few missing value we can drop that row. We need to take care of outliers before filling missing value because mean is heavily impacted by outliers and if we impute the feature column mean in place of missing value now that gonna mess everything."
   ]
  },
  {
   "cell_type": "markdown",
   "metadata": {},
   "source": [
    "## 8. What are the various data pre-processing techniques? Explain dimensionality reduction and function selection in a few words."
   ]
  },
  {
   "cell_type": "markdown",
   "metadata": {},
   "source": [
    "Ans: In the modern times we have data sets with 2000+ features, which takes a lot of computation power for that purpose we need dimensionality reduction. Dimentionality reduction is techniques of reducing the dimentionality of a data set by creating new attributes by combining the orignal attributes. The most common approach for this is Principal component analysis. PCA is a statistical technique to convert a set of correlated variables into a set of transformed uncorrelated variables called principal components. Another method is Singular Value Decomposition.\n",
    "\n",
    "Feature Selection It is process of finding out, optimal subset of the entire feature set. The feature which is not useful in prediction or grouping of data is dropped in this process."
   ]
  },
  {
   "cell_type": "markdown",
   "metadata": {},
   "source": [
    "## 9.\n",
    "\n",
    "            i. What is the IQR? What criteria are used to assess it?\n",
    "\n",
    "             ii. Describe the various components of a box plot in detail? When will the lower whisker    surpass the upper whisker in length? How can box plots be used to identify outliers?"
   ]
  },
  {
   "cell_type": "markdown",
   "metadata": {},
   "source": [
    "Ans: i. What is the IQR? What criteria are used to assess it?\n",
    "\n",
    "IQR is Interquartile Range, it is used to measure variability by dividing data set into quartiles. The data is required to be sorted in ascending order and then it is splited into 4 equal parts Q1,Q2,Q3. The IQR is Q3-Q1\n",
    "\n",
    "Ans: ii. Describe the various components of a box plot in detail? When will the lower whisker surpass the upper whisker in length? How can box plots be used to identify outliers?\n",
    "\n",
    "Box plot is also know as box and whisker plot, it gives visualization of 5 number summary statistic of a data which is first quantile (Q1), median (Q2), third quantile (Q3), and maximum. The lower whisker depends on the lowest value of the data. When most of the value belongs the the lower value than the lower whisker surpass upper whisker lenght. The value which comes beyond the lower or upper whisker is outlier."
   ]
  },
  {
   "cell_type": "markdown",
   "metadata": {},
   "source": [
    "## 10. Make brief notes on any two of the following:\n",
    "          1. Data collected at regular intervals\n",
    "\n",
    "           2. The gap between the quartiles\n",
    "\n",
    "           3. Use a cross-tab"
   ]
  },
  {
   "cell_type": "markdown",
   "metadata": {},
   "source": [
    "Ans:\n",
    "\n",
    "The gap between the quartiles- Quantiles is simple measure of spread called the interquartile range. If teh first half of the data is divided into two halves so that each half consists of one-quarantile of the data set, then the median of the first half is first quantile same way median of secong half is is Q3 and overall median is Q2. Quantiles refer to specific points in a data set which divide data set into equal part of qual sized quantiles.\n",
    "\n",
    "Ans: 3. Cross tab- Two way cross tab is used to understand relationship between two categorical features. It has a matrix format, that presentsa summarized view of the bivariate frequency distribution. It helps in understanding how value of one feature changes value of other feature."
   ]
  },
  {
   "cell_type": "markdown",
   "metadata": {},
   "source": [
    "## 1. Make a comparison between:\n",
    "1.Data with nominal and ordinal values\n",
    "\n",
    "2.Histogram and box plot\n",
    "\n",
    "3.The average and median"
   ]
  },
  {
   "cell_type": "markdown",
   "metadata": {},
   "source": [
    "Ans:\n",
    "\n",
    "1.Histogram and box plot-\n",
    "\n",
    "Histogram helps in understanding the distribution of numeric values into series of intervals called bins- Box plot is also know as box and whisker plot, it gives visualization of 5 number summary statistic of a data which is first quantile (Q1), median (Q2), third quantile (Q3), and maximum\n",
    "\n",
    "Histogram focuses on ploting ranges of data values, the number of data elements in each range will depend on the data distribution. Based on that, the size of each bar corresponding to the different range will vary - Box plot focuses on divide data element in a data set into 4 equal portion such that each portion contains an equal number of data elements.\n",
    "\n",
    "Ans:\n",
    "\n",
    "1.Average and Median\n",
    "Average is sum of adding up all individual values and dividing this by total numbe rof observation - The median is middle value of the sorted data"
   ]
  },
  {
   "cell_type": "code",
   "execution_count": null,
   "metadata": {},
   "outputs": [],
   "source": []
  }
 ],
 "metadata": {
  "kernelspec": {
   "display_name": "Python 3",
   "language": "python",
   "name": "python3"
  },
  "language_info": {
   "codemirror_mode": {
    "name": "ipython",
    "version": 3
   },
   "file_extension": ".py",
   "mimetype": "text/x-python",
   "name": "python",
   "nbconvert_exporter": "python",
   "pygments_lexer": "ipython3",
   "version": "3.8.5"
  }
 },
 "nbformat": 4,
 "nbformat_minor": 4
}
