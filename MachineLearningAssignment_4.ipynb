{
 "cells": [
  {
   "cell_type": "markdown",
   "metadata": {},
   "source": [
    "## 1. What are the key tasks involved in getting ready to work with machine learning modeling?"
   ]
  },
  {
   "cell_type": "markdown",
   "metadata": {},
   "source": [
    "Ans: Following are the tast involved in getting ready to work with machine learning model.\n",
    "\n",
    "1.Understand type of data in input data set.\n",
    "2.Explore data to understand its nature and quality.\n",
    "3.Explore relationship between data element\n",
    "4.Find issue in data.\n",
    "5.Clean the data\n",
    "6.Divide data into 2 parts, training and test data.\n",
    "7.Try different models\n",
    "8.Train the model on training data and apply on test data."
   ]
  },
  {
   "cell_type": "markdown",
   "metadata": {},
   "source": [
    "## 2. What are the different forms of data used in machine learning? Give a specific example for each of them."
   ]
  },
  {
   "cell_type": "markdown",
   "metadata": {},
   "source": [
    "Ans: There are two types of data.\n",
    "\n",
    "1.Qualitative Data- Provides information regarding quality of an objective, information that cannot be measured. Eg 'Good', 'Bad' Qualitative data have 2 groups: Nominal and Ordinal. Nominal data has no numeric value and it cant be quantified. Eg: Male or Female. Ordinal data can be ordered in a sequence. Eg Grades A,B,C,D\n",
    "\n",
    "1.Quantitative data- Provides information regarding quantity so it can be measured. It is numeric data. Quantitative data have 2 groups: Interval data and Ratio data. Interval data- It is numeric data which have known order, and have exact difference between the values. It does not have true 0 value. Eg: Temperature. Ratio data- in this true 0 alue is available."
   ]
  },
  {
   "cell_type": "markdown",
   "metadata": {},
   "source": [
    "## 3. Distinguish:\n",
    "       1. Numeric vs. categorical attributes\n",
    "\n",
    "        2. Feature selection vs. dimensionality reduction"
   ]
  },
  {
   "cell_type": "markdown",
   "metadata": {},
   "source": [
    "Ans:\n",
    "\n",
    "1.Numeric and categorical Numeric data is quantitative data- Categoraical data is qualitative data.\n",
    "Numeric data does not have non numeric values- Categorical data does not have numeric value\n",
    "\n",
    "Numeric data can be discrete data or continuous data- Categorical data can be Nominal data or Ordinal data\n",
    "\n",
    "1.Feature selection vs dimentionality reduction The goal of feature selection in machine learning is to find the best set of features that allows one to build useful models of studied phenomena. Information Gain,Chi-square Test,Fisher’s Score,Correlation Coefficient are some of feature selecyion technique.\n",
    "Dimentinality reduction- It is a technique of reducing features in dataset. It is a data preparation technique done before modelling. Principal component analysis is one of dimentionality reduction technique. Auto-encoder which is a neural network, which is used for dimentionality reduction. It is used to predict input itself."
   ]
  },
  {
   "cell_type": "markdown",
   "metadata": {},
   "source": [
    "## 4. Make quick notes on any two of the following:\n",
    "        1. The histogram\n",
    "\n",
    "         2. Use a scatter plot\n",
    "\n",
    "          3.PCA (Personal Computer Aid)"
   ]
  },
  {
   "cell_type": "markdown",
   "metadata": {},
   "source": [
    "Ans:\n",
    "\n",
    "1.Histogram\n",
    "Histogram is used to visualize numeric attribute. It helps in understanding distribution on numeric data into series of intervals, using bins. Histogram can be Symmetric unimodal, left skewed, right skewed, symmetric uniform, bimodal, multimodal.\n",
    "\n",
    "1.Scatter plot A scatter plot helps in visualizing bivariate relationship. It is used to understand relationship between 2 attribute. It helps to identify outlier."
   ]
  },
  {
   "cell_type": "markdown",
   "metadata": {},
   "source": [
    "## 5. Why is it necessary to investigate data? Is there a discrepancy in how qualitative and quantitative data are explored?"
   ]
  },
  {
   "cell_type": "markdown",
   "metadata": {},
   "source": [
    "Ans: Quantitative data caan be explored using box plot, histogram. In order to understand nature of numeric data we use measure of central tendency eg mean and median. Mean is shifted drastically in the presence of outlier. In qualitative (categorical) data we might like to know how many values belongs to each category."
   ]
  },
  {
   "cell_type": "markdown",
   "metadata": {},
   "source": [
    "## 6. What are the various histogram shapes? What exactly are ‘bins'?"
   ]
  },
  {
   "cell_type": "markdown",
   "metadata": {},
   "source": [
    "Ans:\n",
    "\n",
    "Histogram is used to visualize numeric attribute. It helps in understanding distribution on numeric data into series of intervals, using bins. It is to plot ranges of data values Histogram can be Symmetric unimodal, left skewed, right skewed, symmetric uniform, bimodal, multimodal."
   ]
  },
  {
   "cell_type": "markdown",
   "metadata": {},
   "source": [
    "## 7. How do we deal with data outliers?"
   ]
  },
  {
   "cell_type": "markdown",
   "metadata": {},
   "source": [
    "Ans: Data with abnormal high or low value is outliers. It is a obervation which is unlike the other observation. If there are few outliers then it is best to drop that. Other way is mean, median or mode imputation of data. There are few methods to deal with outliers. Interquartile Range Method is also a very effective wau of dealing with outlier."
   ]
  },
  {
   "cell_type": "markdown",
   "metadata": {},
   "source": [
    "## 8. What are the various central inclination measures? Why does mean vary too much from median in certain data sets?"
   ]
  },
  {
   "cell_type": "markdown",
   "metadata": {},
   "source": [
    "Ans: The four measures are mean, median , mode and midrange.For the standard normal distribution, 68% of the observations lie within 1 standard deviation of the mean; 95% lie within two standard deviation of the mean; and 99.9% lie within 3 standard deviations of the mean."
   ]
  },
  {
   "cell_type": "markdown",
   "metadata": {},
   "source": [
    "## 9. Describe how a scatter plot can be used to investigate bivariate relationships. Is it possible to find outliers using a scatter plot?"
   ]
  },
  {
   "cell_type": "markdown",
   "metadata": {},
   "source": [
    "Ans: Scatter plot helps in visualizing relationship between two variables. It is 2 dimensional plot which shows on co ordinates values of features. One attribute on x axis and other on y axis. With help of scatter point we can point out data point which is outliers."
   ]
  },
  {
   "cell_type": "markdown",
   "metadata": {},
   "source": [
    "## 10. Describe how cross-tabs can be used to figure out how two variables are related."
   ]
  },
  {
   "cell_type": "markdown",
   "metadata": {},
   "source": [
    "Ans: Two way cross tab is used to understand relationship between two categorical features. It has a matrix format, that presentsa summarized view of the bivariate frequency distribution."
   ]
  },
  {
   "cell_type": "code",
   "execution_count": null,
   "metadata": {},
   "outputs": [],
   "source": []
  }
 ],
 "metadata": {
  "kernelspec": {
   "display_name": "Python 3",
   "language": "python",
   "name": "python3"
  },
  "language_info": {
   "codemirror_mode": {
    "name": "ipython",
    "version": 3
   },
   "file_extension": ".py",
   "mimetype": "text/x-python",
   "name": "python",
   "nbconvert_exporter": "python",
   "pygments_lexer": "ipython3",
   "version": "3.8.5"
  }
 },
 "nbformat": 4,
 "nbformat_minor": 4
}
