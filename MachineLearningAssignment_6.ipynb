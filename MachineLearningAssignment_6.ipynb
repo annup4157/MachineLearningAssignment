{
 "cells": [
  {
   "cell_type": "markdown",
   "metadata": {},
   "source": [
    "## 1. In the sense of machine learning, what is a model? What is the best way to train a model?"
   ]
  },
  {
   "cell_type": "markdown",
   "metadata": {},
   "source": [
    "Ans: Structured representation of raw input data to the meaningful pattern is called model. The process of fitting a specific model to a data set is called model training."
   ]
  },
  {
   "cell_type": "markdown",
   "metadata": {},
   "source": [
    "## 2. In the sense of machine learning, explain the \"No Free Lunch\" theorem."
   ]
  },
  {
   "cell_type": "markdown",
   "metadata": {},
   "source": [
    "Ans: All optimization algorithms perform equally well when their performance is averaged across all possible problems.\n",
    "\n",
    "It implies that there is no single best optimization algorithm. Because of the close relationship between optimization, search, and machine learning, it also implies that there is no single best machine learning algorithm for predictive modeling problems such as classification and regression.\n",
    "\n",
    "There is no one single model which works best for every machine learning problem!!"
   ]
  },
  {
   "cell_type": "markdown",
   "metadata": {},
   "source": [
    "## 3. Describe the K-fold cross-validation mechanism in detail."
   ]
  },
  {
   "cell_type": "markdown",
   "metadata": {},
   "source": [
    "Ans: The k-fold cross validation technique devides the data set into seperated random partition called folds. It is repeated holdout into 'k; folds. The value of k can be set to any number. The 2 way of doing it is. 10 folds cross validation and Leave one out cross validation."
   ]
  },
  {
   "cell_type": "markdown",
   "metadata": {},
   "source": [
    "## 4. Describe the bootstrap sampling method. What is the aim of it?"
   ]
  },
  {
   "cell_type": "markdown",
   "metadata": {},
   "source": [
    "Ans: Bootstrap sampling is a popular way to identify training and test data set from the input data set. Bootstraping randomly picks data instances from input data set and there are chances of same data getting picked multiple times. It helps in avoiding overfitting and improving stability of machine learning algorithms."
   ]
  },
  {
   "cell_type": "markdown",
   "metadata": {},
   "source": [
    "## 5. What is the significance of calculating the Kappa value for a classification model? Demonstrate how to measure the Kappa value of a classification model using a sample collection of results."
   ]
  },
  {
   "cell_type": "markdown",
   "metadata": {},
   "source": [
    "Ans: Kappa is a statistical measure to evaluate how closely the instances classified by machine learning algorithm matches the actual class. It helps in deciding which model performed better. Kappa value shows adjusted model accuracy. The maximum kappa value is 1."
   ]
  },
  {
   "cell_type": "markdown",
   "metadata": {},
   "source": [
    "## 6. Describe the model ensemble method. In machine learning, what part does it play?"
   ]
  },
  {
   "cell_type": "markdown",
   "metadata": {},
   "source": [
    "Ans: Ensembling method combines several base models and then produce results. Random Forest and Decision tree is ensemble models. These kind of models, ask series of questions based on conditions."
   ]
  },
  {
   "cell_type": "markdown",
   "metadata": {},
   "source": [
    "## 7. What is a descriptive model's main purpose? Give examples of real-world problems that descriptive models were used to solve."
   ]
  },
  {
   "cell_type": "markdown",
   "metadata": {},
   "source": [
    "Ans: In descriptive model there is no given target and its main purpose is to get meaningful insights by finding patterns in the data set. It groups together similar data instances which is called clustering. A example of desriptive model task is Market bast analysis. It uses customer transaction data, to find out similarity in customer preferences which helps recommending product which are more likely to be purchased hence helps in improving sales and customer experience."
   ]
  },
  {
   "cell_type": "markdown",
   "metadata": {},
   "source": [
    "## 8. Describe how to evaluate a linear regression model."
   ]
  },
  {
   "cell_type": "markdown",
   "metadata": {},
   "source": [
    "Ans: There are many metrics we can consider to evaluate linear regression model. Mean squared error: It is the average of the squared difference between the predicted and actual value.Mean Absolute Error: It is average of the absolute difference between the target value and the value predicted. R-squared:R2 measures strength of the relationship between your model and the dependent variable."
   ]
  },
  {
   "cell_type": "markdown",
   "metadata": {},
   "source": [
    "## 9. Distinguish :"
   ]
  },
  {
   "cell_type": "markdown",
   "metadata": {},
   "source": [
    "1.Descriptive vs. predictive models\n",
    "\n",
    "Ans:\n",
    "\n",
    "i. Models for unsupervised learning is descriptive model- Models for supervised learning is predictive model.\n",
    "\n",
    "ii. There is no target feature in descriptive model -There is a target feature which we have to predict in predictive model.\n",
    "\n",
    "iii. Descriptive models group similar data together by identifying pattern - Predictive models predict the target variable based on input data.\n",
    "\n",
    "iv. Example of task for Descriptive model is Customer segmentation, grouping of product as well as other kind of grouping - Example of task for Predictive model is predict sale price of a house, estimate sale of next year, Classify if a message is spam or not\n",
    "\n",
    "1.Underfitting vs. overfitting the model\n",
    "\n",
    "Ans:\n",
    "\n",
    "i. Underfitting is when a model is performing better on test data than training data-Overfitting is when a model is performing better on training data but bad on test data\n",
    "\n",
    "ii. Underfitting happens when model is too simple- Overfitting happens when model is too complex.\n",
    "\n",
    "iii. In case of underfitting, we can reduce regularization- In case of overfitting we can increase regularization\n",
    "\n",
    "1.Bootstrapping vs. cross-validation\n",
    "\n",
    "Ans:\n",
    "\n",
    "i. Bootstrap sampling is a popular way to identify training and test data set from the input data set. Bootstraping randomly picks data instances from input data set and there are chances of same data getting picked multiple times- Cross-validation is used for validating model performance by splitting the data into k parts."
   ]
  },
  {
   "cell_type": "markdown",
   "metadata": {},
   "source": [
    "## 10. Make quick notes on:"
   ]
  },
  {
   "cell_type": "markdown",
   "metadata": {},
   "source": [
    "        1. LOOCV.\n",
    "\n",
    "\n",
    "Ans: Leave-One-Out Cross-Validation, is sued to estimate performance of machine learning algorithms when they are used to make predictions on data not used to train the model. LOOCV is an extreme version of k-fold cross-validation. It can be done when data set is small.\n",
    "\n",
    "        2. F-measurement\n",
    "\n",
    "\n",
    "Ans: F-measures provides a single score that balances both the conserns of precision and recall in one number. F-measure= 2 X Precision X Recall/ Precision + Recall. It is used as metrics in imbalanced classification problem.\n",
    "\n",
    "        3. The width of the silhouette\n",
    "\n",
    "\n",
    "Ans: It is metrics used for evaluating clustering model. Here 1 means Cluster are very well distinguished, 0 means Cluster are not well distinguished, -1 means clusters are assigned in the wrong way.\n",
    "\n",
    "         4. Receiver operating characteristic curve\n",
    "\n",
    "\n",
    "Ans: ROC Curve is used for evaluating model build for binary classification. ROC Curve is a diagnostic plot for summarizing the behavior of a model by calculating the false positive rate and true positive rate for a set of predictions by the model under different threshold."
   ]
  },
  {
   "cell_type": "code",
   "execution_count": null,
   "metadata": {},
   "outputs": [],
   "source": []
  }
 ],
 "metadata": {
  "kernelspec": {
   "display_name": "Python 3",
   "language": "python",
   "name": "python3"
  },
  "language_info": {
   "codemirror_mode": {
    "name": "ipython",
    "version": 3
   },
   "file_extension": ".py",
   "mimetype": "text/x-python",
   "name": "python",
   "nbconvert_exporter": "python",
   "pygments_lexer": "ipython3",
   "version": "3.8.5"
  }
 },
 "nbformat": 4,
 "nbformat_minor": 4
}
