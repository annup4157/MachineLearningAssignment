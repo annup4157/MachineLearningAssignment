{
 "cells": [
  {
   "cell_type": "markdown",
   "metadata": {},
   "source": [
    "## 1.Explain the term machine learning, and how does it work? Explain two machine learning applications in the business world. What are some of the ethical concerns that machine learning applications could raise?"
   ]
  },
  {
   "cell_type": "markdown",
   "metadata": {},
   "source": [
    "Ans: When machine is gathering experience by doing a task and improve its performance in doing a similar task in future that is Machine Learning. The machine learn from past data, for a given task. We can understand different segments of groups by using Machine Learning, We can identify fraud transaction using machine learning. Ethical concerns related to privacy of data that are used in machine learning."
   ]
  },
  {
   "cell_type": "markdown",
   "metadata": {},
   "source": [
    "## 2. Describe the process of human learning:"
   ]
  },
  {
   "cell_type": "markdown",
   "metadata": {},
   "source": [
    "Ans:i. Under the supervision of experts ii. With the assistance of experts in an indirect manner iii. Self-education"
   ]
  },
  {
   "cell_type": "markdown",
   "metadata": {},
   "source": [
    "## 3. Provide a few examples of various types of machine learning."
   ]
  },
  {
   "cell_type": "markdown",
   "metadata": {},
   "source": [
    "Ans: Machine Learning are classified into 3 broad categories: i. Supervised learning- It is predictive learning. In this machine predicts the class based on prior information related to that class. ii. Unsupervised learning- It is descriptive learning. Machine finds pattern from data by grouping similar data together. iii. Reinforcement learning- To achive a goal, machine learns to act on its own."
   ]
  },
  {
   "cell_type": "markdown",
   "metadata": {},
   "source": [
    "## 4. Examine the various forms of machine learning."
   ]
  },
  {
   "cell_type": "markdown",
   "metadata": {},
   "source": [
    "Ans:\n",
    "\n",
    "Supervised learning: Machine tries to predict label from given features. There are two forms of supervised learning.\n",
    "\n",
    "i. Classification- task where we have to identify are certain class eg is the traction fraud or vallid is an example of classifcation, here target feature is categorical.\n",
    "\n",
    "ii. Regression- In this task target feature is continuous eg House price, Demand forecasting.\n",
    "\n",
    "Unsupervised Learning: In these kind of tast we dont have any labels. Here we try to group data based on similarity. Unsupervised learning is pattern discovery. eg Customer segmentation\n",
    "\n",
    "i. Clustering- It groups similar data together. Here data belonging to same groups are quite similar to each other.\n",
    "\n",
    "ii. Association Analysis- eg Customer who brought product A also brough product B. That means there are stong chances that if a customer purchased product B will also like to purchase product A, this shows both are associated with each other.\n",
    "\n",
    "Reinforcement Learning An example of reinforcement learning is self driving car. In this machine try to learn task autonomously. The learner is an agent, and for every correctly achieved sub-task a reward is given and on wrong step no reward. This continues until the task is achieved."
   ]
  },
  {
   "cell_type": "markdown",
   "metadata": {},
   "source": [
    "## 5. Can you explain what a well-posed learning problem is? Explain the main characteristics that must be present to identify a learning problem properly."
   ]
  },
  {
   "cell_type": "markdown",
   "metadata": {},
   "source": [
    "Ans:We need to decide if a problem is right choice for machine learning or not. Step 1: What is the problem? Describe the problem and prepare list of assumptions as well as similar problems. Step 2: Why does the problem need to be solved? Listing the motivation for solving the problem, we need to know benefit for solving the problem as well as how the solution will be used. Step 3: Describe how the problem will be solved manually to domain knowledge. The details regarding data collection, data preparartion, program design need to be included in this step."
   ]
  },
  {
   "cell_type": "markdown",
   "metadata": {},
   "source": [
    "## 6. Is machine learning capable of solving all problems? Give a detailed explanation of your answer."
   ]
  },
  {
   "cell_type": "markdown",
   "metadata": {},
   "source": [
    "Ans: In task where traing data is not sufficient machine learning should not be used. In task where humans are more effective machine learning should not be used. In task where intense himan involement is required machine learning should not be used."
   ]
  },
  {
   "cell_type": "markdown",
   "metadata": {},
   "source": [
    "## 7. What are the various methods and technologies for solving machine learning problems? Any two of them should be defined in detail."
   ]
  },
  {
   "cell_type": "markdown",
   "metadata": {},
   "source": [
    "Ans:\n",
    "\n",
    "Python : It is a programming language, which have advanced math function NumPy, machine learning libraries sklearn as well as visualization libraries like matplotlib and plotly\n",
    "\n",
    "R: is a language for statistical computing and data analysis. R as libraries for machine learing,data transformation (dplyr), visualization (ggplot2) etc."
   ]
  },
  {
   "cell_type": "markdown",
   "metadata": {},
   "source": [
    "## 8. Can you explain the various forms of supervised learning? Explain each one with an example application."
   ]
  },
  {
   "cell_type": "markdown",
   "metadata": {},
   "source": [
    "Ans:\n",
    "\n",
    "Supervised learning: Machine tries to predict label from given features. There are two forms of supervised learning.\n",
    "\n",
    "i. Classification- task where we have to identify are certain class eg is the traction fraud or vallid is an example of classifcation, here target feature is categorical. Eg: Fraud prediction, image classificcation\n",
    "\n",
    "ii. Regression- In this task target feature is continuous eg House price, Demand forecasting."
   ]
  },
  {
   "cell_type": "markdown",
   "metadata": {},
   "source": [
    "## 9. What is the difference between supervised and unsupervised learning? With a sample application in each region, explain the differences."
   ]
  },
  {
   "cell_type": "markdown",
   "metadata": {},
   "source": [
    "Ans:\n",
    "\n",
    "Supervised learning used labelled data - Unsupervised learning used unlabelled data.\n",
    "\n",
    "Supervised learning is easy to understand- Unsupervised learning is not easy to understand.\n",
    "\n",
    "Supervised learing types is Classification and Regression - Unsupervised learning type is Clustering and association\n",
    "\n",
    "Supervised learning algorithm are Linear regression, logistic regression, Support Vector Machine - Unsupervised Learning algorithms are Principal component analysis, k-means, apriori algorithm, DBSCAN etc.\n",
    "\n",
    "Supervised leaning application are Stock price prediction, Fraud detection etc - Unsupervised learning apllication are Market basket analysis, recommender system, customer segmentation etc"
   ]
  },
  {
   "cell_type": "markdown",
   "metadata": {},
   "source": [
    "## 10. Describe the machine learning process in depth.\n",
    "a. Make brief notes on any two of the following: MATLAB is one of the most widely used programming languages. ii. Deep learning applications in healthcare iii. Study of the market basket iv. Linear regression (simple)"
   ]
  },
  {
   "cell_type": "markdown",
   "metadata": {},
   "source": [
    "Ans:\n",
    "\n",
    "Linear Regression- It is a statistical method that is used for predictive analysis. Linear regression makes predictions for continuous/real or numeric variables such as sales, salary, age, product price, etc. It shows linear relationship between a dependent (y) and one or more independent variable (y) hence called as linear regression.\n",
    "\n",
    "Market basket study- Market Basket Analysis is one of the key techniques used by large retailers to uncover associations between items. It works by looking for combinations of items that occur together frequently in transactions. To put it another way, it allows retailers to identify relationships between the items that people buy."
   ]
  },
  {
   "cell_type": "markdown",
   "metadata": {},
   "source": [
    "## 11. Make a comparison between:-\n",
    "1.Generalization and abstraction\n",
    "2.Learning that is guided and unsupervised\n",
    "3.Regression and classification"
   ]
  },
  {
   "cell_type": "markdown",
   "metadata": {},
   "source": [
    "Ans:\n",
    "\n",
    "1.Generalization and Abstraction\n",
    "Abstraction process is training the model. Generalization is related to tuning the model.\n",
    "\n",
    "Abstraction helps in deriving a conceptual map based on the input data. Generalization takes care that model is generalized well enough to make prediction on unseen data.\n",
    "\n",
    "Abstraction is summarization of input data- The abstracted representation is generalized to form a framework for decision making\n",
    "\n",
    "2.Regression and Classification\n",
    "In regression the target variable is continuous, real valued - In classification the target variable is not continuous, it is categorical or nominal varaible.\n",
    "\n",
    "regression eg: demand forecasting, reaal estate price prediction- classification eg: disease prediction, image classification"
   ]
  },
  {
   "cell_type": "code",
   "execution_count": null,
   "metadata": {},
   "outputs": [],
   "source": []
  }
 ],
 "metadata": {
  "kernelspec": {
   "display_name": "Python 3",
   "language": "python",
   "name": "python3"
  },
  "language_info": {
   "codemirror_mode": {
    "name": "ipython",
    "version": 3
   },
   "file_extension": ".py",
   "mimetype": "text/x-python",
   "name": "python",
   "nbconvert_exporter": "python",
   "pygments_lexer": "ipython3",
   "version": "3.8.5"
  }
 },
 "nbformat": 4,
 "nbformat_minor": 4
}
