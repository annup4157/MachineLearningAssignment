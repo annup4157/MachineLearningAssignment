{
 "cells": [
  {
   "cell_type": "markdown",
   "metadata": {},
   "source": [
    "## Q1) What is the concept of human learning? Please give two examples."
   ]
  },
  {
   "cell_type": "markdown",
   "metadata": {},
   "source": [
    "Ans: It is a process of acquiring knowledge e.g. We learn how to speak by observing others, learn by recognizing pattern."
   ]
  },
  {
   "cell_type": "markdown",
   "metadata": {},
   "source": [
    "## Q2) What different forms of human learning are there? Are there any machine learning equivalents?"
   ]
  },
  {
   "cell_type": "markdown",
   "metadata": {},
   "source": [
    "Ans: 1. Motor learning: · 2. Verbal learning: · 3. Concept learning: · 4. Discrimination learning: · 5. Learning of principles: · 6. Problem solving. Both Machine and Humans learns from memory."
   ]
  },
  {
   "cell_type": "markdown",
   "metadata": {},
   "source": [
    "## Q3) What is machine learning, and how does it work? What are the key responsibilities of machine learning?"
   ]
  },
  {
   "cell_type": "markdown",
   "metadata": {},
   "source": [
    "Ans: Instead of engineers teaching computers to have what they need to carry out tasks, that perhaps computers could teach themselves – learn something without being explicitly programmed to do so. Machine learning is used to build algorithms that can receive the input data and use statistical analysis to predict the output, based upon the type of data available."
   ]
  },
  {
   "cell_type": "markdown",
   "metadata": {},
   "source": [
    "## Q4) Define the terms \"penalty\" and \"reward\" in the context of reinforcement learning?"
   ]
  },
  {
   "cell_type": "markdown",
   "metadata": {},
   "source": [
    "Ans. This type of machine learning uses a reward-penalty method to teach an AI system. If it makes the right move, it gets rewarded. If it makes a mistake, it receives a penalty."
   ]
  },
  {
   "cell_type": "markdown",
   "metadata": {},
   "source": [
    "## Q5) Explain the term \"learning as a search\"?"
   ]
  },
  {
   "cell_type": "markdown",
   "metadata": {},
   "source": [
    "Ans. The application of machine learning is best thought of as search problem for the best mapping of inputs to outputs given the knowledge and resources available to you for a given task. The learning process involves a lot of choices like choice of framing the learning problem, choice of data used for training, choice of data preparation, choice of learning algorithm to fit the traing data, choice of performance evaluation. We can thing of its choice as a huge search space, where each decision point narrows the search."
   ]
  },
  {
   "cell_type": "markdown",
   "metadata": {},
   "source": [
    "## Q6) What are the various goals of machine learning? What is the relationship between these and human learning?"
   ]
  },
  {
   "cell_type": "markdown",
   "metadata": {},
   "source": [
    "Ans. Machine learning goal is on development of computer programs that can access data and use it to learn for themselves. It's main goal is to allow the computer learn automatically without human intervention. Machine learning enables analysis of massive quantities of data. While it generally delivers faster, more accurate results in order to identify profitable opportunities or dangerous risks. In both human and machine learning, the learning is based on past data in order to make profit's and save from losses."
   ]
  },
  {
   "cell_type": "markdown",
   "metadata": {},
   "source": [
    "## Q7) Illustrate the various elements of machine learning using a real-life illustration?"
   ]
  },
  {
   "cell_type": "markdown",
   "metadata": {},
   "source": [
    "Ans. a) Data: looking at a cat and a dog. We store their features in our memory. ,b) Task: Our task is to identify a cat ,c) Model:A model is nothing but a mathematical function which defines relationship between input data and output data. given an image(data), predict if it has a dog or not(task), we have to build a system that answers this question and such system is called a model. , d) Loss Function: loss function is used to decide which model is better by calculating the diffrence between predicted and true value ,e) Learning Algorithm: finding parameters of the proposed model is done by computer, f) Evaluation: We evaluate the model on test data to see how well our model is performing."
   ]
  },
  {
   "cell_type": "markdown",
   "metadata": {},
   "source": [
    "## Q8) Provide an example of the abstraction method?"
   ]
  },
  {
   "cell_type": "markdown",
   "metadata": {},
   "source": [
    "Ans. An abstract method is a method that is declared without implementation. It hids the details of implementation and only show essential feautures of an object. E.g. A car that we drive, it features are available to us as a driver, without knowing the real details of hoe features works and which other objects are involved for providing this features."
   ]
  },
  {
   "cell_type": "markdown",
   "metadata": {},
   "source": [
    "## Q9) What is the concept of generalization? What function does it play in the machine learning process?"
   ]
  },
  {
   "cell_type": "markdown",
   "metadata": {},
   "source": [
    "Ans. The concept of generalization states that humans and animal uses past learning in present situation if the condition in the situation is simalar. Generalization refers to model's ability to adapt properly to new, previously unseen data, drawn from the same distribution as the one used to create the model."
   ]
  },
  {
   "cell_type": "markdown",
   "metadata": {},
   "source": [
    "## Q10) What is classification, exactly? What are the main distinctions between classification and regression?"
   ]
  },
  {
   "cell_type": "markdown",
   "metadata": {},
   "source": [
    "Ans. Classification is the task of approximating a mapping function (f) from input variables (X) to discrete output variables (y). Here, there is prediction is of class from the given features. E.g. Classification if a email/text is spam or not spam. Regression is the task of approximating a mapping function (f) from input variables (X) to continuous output variables (y). E.g. Prediction of a house price. Accuracy can be used as evaluation metrics for classification but it can not be used for evaluating regression model."
   ]
  },
  {
   "cell_type": "markdown",
   "metadata": {},
   "source": [
    "## Q11) What is regression, and how does it work? Give an example of a real-world problem that was solved using regression?"
   ]
  },
  {
   "cell_type": "markdown",
   "metadata": {},
   "source": [
    "Ans. Regression is the task of approximating a mapping function (f) from input variables (X) to continuous output variables (y). E.g. Prediction of a house price."
   ]
  },
  {
   "cell_type": "markdown",
   "metadata": {},
   "source": [
    "## Q12) Describe the clustering mechanism in detail?"
   ]
  },
  {
   "cell_type": "markdown",
   "metadata": {},
   "source": [
    "Ans. When we try to learn about something, we often might divide it into meaningful groups. In machine learning too, we often group examples to understand a subject in a machine learning system. Grouping unlabeled examples is called clustering. You can measure similarity between examples by combining the examples' feature data into a metric, called a similarity measure. After clustering, each cluster is assigned a number called a cluster ID."
   ]
  },
  {
   "cell_type": "markdown",
   "metadata": {},
   "source": [
    "## Q13) . Make brief observations on two of the following topics: i. Machine learning algorithms are used ii. ii. Studying under supervision iii. Studying without supervision iv. Reinforcement learning is a form of learning based on positive reinforcement"
   ]
  },
  {
   "cell_type": "markdown",
   "metadata": {},
   "source": [
    "Ans.\n",
    "i) Machine learning algorithms are described as learning a target function(f) that best maps input variable(X) to an output variable (Y).\n",
    "ii) Supervised learning is where you have input variable (X) and output variable (Y) and we use an algorithm to learn the mapping function from the input to the output. eg Classification: Predict disease/no disease, Purchase/No Purchase. eg. Regression: Predict the sales etc.\n",
    "iii) Unsupervised learning is where we only have input data (X),\n",
    "E.g Clustering: Grouping of customer by purchase behavior. E.g. Association: People who buy product A, also buys product B.\n",
    "Semi-supervised is where only some amount of the data is labeled.\n",
    "Ans..\n",
    "iv) Reinforcement learning is a form of learning based on positive reinforcement In reinforcement learning we have an agent and a reward. Each correct action is rewarded and each wrong action deduct that reward, so the agent will find best way to reach the reward. Positive Reinforcement is when an event, occurs due to a particular behavior, increases the strength and the frequency of the behavior. In other words, it has a positive effect on behavior."
   ]
  },
  {
   "cell_type": "code",
   "execution_count": null,
   "metadata": {},
   "outputs": [],
   "source": []
  }
 ],
 "metadata": {
  "kernelspec": {
   "display_name": "Python 3",
   "language": "python",
   "name": "python3"
  },
  "language_info": {
   "codemirror_mode": {
    "name": "ipython",
    "version": 3
   },
   "file_extension": ".py",
   "mimetype": "text/x-python",
   "name": "python",
   "nbconvert_exporter": "python",
   "pygments_lexer": "ipython3",
   "version": "3.8.5"
  }
 },
 "nbformat": 4,
 "nbformat_minor": 4
}
